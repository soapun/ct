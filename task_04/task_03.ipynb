{
  "nbformat": 4,
  "nbformat_minor": 0,
  "metadata": {
    "colab": {
      "name": "ct_task_03.ipynb",
      "provenance": [],
      "collapsed_sections": []
    },
    "kernelspec": {
      "name": "python3",
      "display_name": "Python 3"
    },
    "language_info": {
      "name": "python"
    },
    "widgets": {
      "application/vnd.jupyter.widget-state+json": {
        "cd41d5feb16844e38b423edd363d4ad0": {
          "model_module": "@jupyter-widgets/controls",
          "model_name": "HBoxModel",
          "model_module_version": "1.5.0",
          "state": {
            "_dom_classes": [],
            "_model_module": "@jupyter-widgets/controls",
            "_model_module_version": "1.5.0",
            "_model_name": "HBoxModel",
            "_view_count": null,
            "_view_module": "@jupyter-widgets/controls",
            "_view_module_version": "1.5.0",
            "_view_name": "HBoxView",
            "box_style": "",
            "children": [
              "IPY_MODEL_50fdab2dd26a4a5e8a71737520ed2a6b",
              "IPY_MODEL_753229530f584511a245feb038a1d278",
              "IPY_MODEL_1efe694980144be1978957dd9eb5e622"
            ],
            "layout": "IPY_MODEL_9cfaeb0880de4e7699588359811e094b"
          }
        },
        "50fdab2dd26a4a5e8a71737520ed2a6b": {
          "model_module": "@jupyter-widgets/controls",
          "model_name": "HTMLModel",
          "model_module_version": "1.5.0",
          "state": {
            "_dom_classes": [],
            "_model_module": "@jupyter-widgets/controls",
            "_model_module_version": "1.5.0",
            "_model_name": "HTMLModel",
            "_view_count": null,
            "_view_module": "@jupyter-widgets/controls",
            "_view_module_version": "1.5.0",
            "_view_name": "HTMLView",
            "description": "",
            "description_tooltip": null,
            "layout": "IPY_MODEL_317ee0dae71945b997072153e2d181fc",
            "placeholder": "​",
            "style": "IPY_MODEL_438f6257b88248a8afd34a80f6ce7ded",
            "value": "100%"
          }
        },
        "753229530f584511a245feb038a1d278": {
          "model_module": "@jupyter-widgets/controls",
          "model_name": "FloatProgressModel",
          "model_module_version": "1.5.0",
          "state": {
            "_dom_classes": [],
            "_model_module": "@jupyter-widgets/controls",
            "_model_module_version": "1.5.0",
            "_model_name": "FloatProgressModel",
            "_view_count": null,
            "_view_module": "@jupyter-widgets/controls",
            "_view_module_version": "1.5.0",
            "_view_name": "ProgressView",
            "bar_style": "success",
            "description": "",
            "description_tooltip": null,
            "layout": "IPY_MODEL_43757c2cc7624176b77ed911a52e5e40",
            "max": 10,
            "min": 0,
            "orientation": "horizontal",
            "style": "IPY_MODEL_fc948da9323b42ffb4db69035f952a29",
            "value": 10
          }
        },
        "1efe694980144be1978957dd9eb5e622": {
          "model_module": "@jupyter-widgets/controls",
          "model_name": "HTMLModel",
          "model_module_version": "1.5.0",
          "state": {
            "_dom_classes": [],
            "_model_module": "@jupyter-widgets/controls",
            "_model_module_version": "1.5.0",
            "_model_name": "HTMLModel",
            "_view_count": null,
            "_view_module": "@jupyter-widgets/controls",
            "_view_module_version": "1.5.0",
            "_view_name": "HTMLView",
            "description": "",
            "description_tooltip": null,
            "layout": "IPY_MODEL_e702e7443dd44eada3df5430160e45b9",
            "placeholder": "​",
            "style": "IPY_MODEL_346f64c76ed44545b68094ea8de40d97",
            "value": " 10/10 [00:00&lt;00:00, 10.73it/s]"
          }
        },
        "9cfaeb0880de4e7699588359811e094b": {
          "model_module": "@jupyter-widgets/base",
          "model_name": "LayoutModel",
          "model_module_version": "1.2.0",
          "state": {
            "_model_module": "@jupyter-widgets/base",
            "_model_module_version": "1.2.0",
            "_model_name": "LayoutModel",
            "_view_count": null,
            "_view_module": "@jupyter-widgets/base",
            "_view_module_version": "1.2.0",
            "_view_name": "LayoutView",
            "align_content": null,
            "align_items": null,
            "align_self": null,
            "border": null,
            "bottom": null,
            "display": null,
            "flex": null,
            "flex_flow": null,
            "grid_area": null,
            "grid_auto_columns": null,
            "grid_auto_flow": null,
            "grid_auto_rows": null,
            "grid_column": null,
            "grid_gap": null,
            "grid_row": null,
            "grid_template_areas": null,
            "grid_template_columns": null,
            "grid_template_rows": null,
            "height": null,
            "justify_content": null,
            "justify_items": null,
            "left": null,
            "margin": null,
            "max_height": null,
            "max_width": null,
            "min_height": null,
            "min_width": null,
            "object_fit": null,
            "object_position": null,
            "order": null,
            "overflow": null,
            "overflow_x": null,
            "overflow_y": null,
            "padding": null,
            "right": null,
            "top": null,
            "visibility": null,
            "width": null
          }
        },
        "317ee0dae71945b997072153e2d181fc": {
          "model_module": "@jupyter-widgets/base",
          "model_name": "LayoutModel",
          "model_module_version": "1.2.0",
          "state": {
            "_model_module": "@jupyter-widgets/base",
            "_model_module_version": "1.2.0",
            "_model_name": "LayoutModel",
            "_view_count": null,
            "_view_module": "@jupyter-widgets/base",
            "_view_module_version": "1.2.0",
            "_view_name": "LayoutView",
            "align_content": null,
            "align_items": null,
            "align_self": null,
            "border": null,
            "bottom": null,
            "display": null,
            "flex": null,
            "flex_flow": null,
            "grid_area": null,
            "grid_auto_columns": null,
            "grid_auto_flow": null,
            "grid_auto_rows": null,
            "grid_column": null,
            "grid_gap": null,
            "grid_row": null,
            "grid_template_areas": null,
            "grid_template_columns": null,
            "grid_template_rows": null,
            "height": null,
            "justify_content": null,
            "justify_items": null,
            "left": null,
            "margin": null,
            "max_height": null,
            "max_width": null,
            "min_height": null,
            "min_width": null,
            "object_fit": null,
            "object_position": null,
            "order": null,
            "overflow": null,
            "overflow_x": null,
            "overflow_y": null,
            "padding": null,
            "right": null,
            "top": null,
            "visibility": null,
            "width": null
          }
        },
        "438f6257b88248a8afd34a80f6ce7ded": {
          "model_module": "@jupyter-widgets/controls",
          "model_name": "DescriptionStyleModel",
          "model_module_version": "1.5.0",
          "state": {
            "_model_module": "@jupyter-widgets/controls",
            "_model_module_version": "1.5.0",
            "_model_name": "DescriptionStyleModel",
            "_view_count": null,
            "_view_module": "@jupyter-widgets/base",
            "_view_module_version": "1.2.0",
            "_view_name": "StyleView",
            "description_width": ""
          }
        },
        "43757c2cc7624176b77ed911a52e5e40": {
          "model_module": "@jupyter-widgets/base",
          "model_name": "LayoutModel",
          "model_module_version": "1.2.0",
          "state": {
            "_model_module": "@jupyter-widgets/base",
            "_model_module_version": "1.2.0",
            "_model_name": "LayoutModel",
            "_view_count": null,
            "_view_module": "@jupyter-widgets/base",
            "_view_module_version": "1.2.0",
            "_view_name": "LayoutView",
            "align_content": null,
            "align_items": null,
            "align_self": null,
            "border": null,
            "bottom": null,
            "display": null,
            "flex": null,
            "flex_flow": null,
            "grid_area": null,
            "grid_auto_columns": null,
            "grid_auto_flow": null,
            "grid_auto_rows": null,
            "grid_column": null,
            "grid_gap": null,
            "grid_row": null,
            "grid_template_areas": null,
            "grid_template_columns": null,
            "grid_template_rows": null,
            "height": null,
            "justify_content": null,
            "justify_items": null,
            "left": null,
            "margin": null,
            "max_height": null,
            "max_width": null,
            "min_height": null,
            "min_width": null,
            "object_fit": null,
            "object_position": null,
            "order": null,
            "overflow": null,
            "overflow_x": null,
            "overflow_y": null,
            "padding": null,
            "right": null,
            "top": null,
            "visibility": null,
            "width": null
          }
        },
        "fc948da9323b42ffb4db69035f952a29": {
          "model_module": "@jupyter-widgets/controls",
          "model_name": "ProgressStyleModel",
          "model_module_version": "1.5.0",
          "state": {
            "_model_module": "@jupyter-widgets/controls",
            "_model_module_version": "1.5.0",
            "_model_name": "ProgressStyleModel",
            "_view_count": null,
            "_view_module": "@jupyter-widgets/base",
            "_view_module_version": "1.2.0",
            "_view_name": "StyleView",
            "bar_color": null,
            "description_width": ""
          }
        },
        "e702e7443dd44eada3df5430160e45b9": {
          "model_module": "@jupyter-widgets/base",
          "model_name": "LayoutModel",
          "model_module_version": "1.2.0",
          "state": {
            "_model_module": "@jupyter-widgets/base",
            "_model_module_version": "1.2.0",
            "_model_name": "LayoutModel",
            "_view_count": null,
            "_view_module": "@jupyter-widgets/base",
            "_view_module_version": "1.2.0",
            "_view_name": "LayoutView",
            "align_content": null,
            "align_items": null,
            "align_self": null,
            "border": null,
            "bottom": null,
            "display": null,
            "flex": null,
            "flex_flow": null,
            "grid_area": null,
            "grid_auto_columns": null,
            "grid_auto_flow": null,
            "grid_auto_rows": null,
            "grid_column": null,
            "grid_gap": null,
            "grid_row": null,
            "grid_template_areas": null,
            "grid_template_columns": null,
            "grid_template_rows": null,
            "height": null,
            "justify_content": null,
            "justify_items": null,
            "left": null,
            "margin": null,
            "max_height": null,
            "max_width": null,
            "min_height": null,
            "min_width": null,
            "object_fit": null,
            "object_position": null,
            "order": null,
            "overflow": null,
            "overflow_x": null,
            "overflow_y": null,
            "padding": null,
            "right": null,
            "top": null,
            "visibility": null,
            "width": null
          }
        },
        "346f64c76ed44545b68094ea8de40d97": {
          "model_module": "@jupyter-widgets/controls",
          "model_name": "DescriptionStyleModel",
          "model_module_version": "1.5.0",
          "state": {
            "_model_module": "@jupyter-widgets/controls",
            "_model_module_version": "1.5.0",
            "_model_name": "DescriptionStyleModel",
            "_view_count": null,
            "_view_module": "@jupyter-widgets/base",
            "_view_module_version": "1.2.0",
            "_view_name": "StyleView",
            "description_width": ""
          }
        },
        "77e83bba272c44b99445ee3b6907674e": {
          "model_module": "@jupyter-widgets/controls",
          "model_name": "HBoxModel",
          "model_module_version": "1.5.0",
          "state": {
            "_dom_classes": [],
            "_model_module": "@jupyter-widgets/controls",
            "_model_module_version": "1.5.0",
            "_model_name": "HBoxModel",
            "_view_count": null,
            "_view_module": "@jupyter-widgets/controls",
            "_view_module_version": "1.5.0",
            "_view_name": "HBoxView",
            "box_style": "",
            "children": [
              "IPY_MODEL_8bb8fe257ed94e238abead7970f5cf7d",
              "IPY_MODEL_41692aed96304c2c8eef0896c0674cdd",
              "IPY_MODEL_c524f5d0c11a4a62a2fc29c79992e035"
            ],
            "layout": "IPY_MODEL_4e85d354548641d6888b69ea36e63c75"
          }
        },
        "8bb8fe257ed94e238abead7970f5cf7d": {
          "model_module": "@jupyter-widgets/controls",
          "model_name": "HTMLModel",
          "model_module_version": "1.5.0",
          "state": {
            "_dom_classes": [],
            "_model_module": "@jupyter-widgets/controls",
            "_model_module_version": "1.5.0",
            "_model_name": "HTMLModel",
            "_view_count": null,
            "_view_module": "@jupyter-widgets/controls",
            "_view_module_version": "1.5.0",
            "_view_name": "HTMLView",
            "description": "",
            "description_tooltip": null,
            "layout": "IPY_MODEL_3c94f17c200540dbb882dee2da9757b2",
            "placeholder": "​",
            "style": "IPY_MODEL_85eaf6dcc1dc4eb4821ac8bfc21ca320",
            "value": "100%"
          }
        },
        "41692aed96304c2c8eef0896c0674cdd": {
          "model_module": "@jupyter-widgets/controls",
          "model_name": "FloatProgressModel",
          "model_module_version": "1.5.0",
          "state": {
            "_dom_classes": [],
            "_model_module": "@jupyter-widgets/controls",
            "_model_module_version": "1.5.0",
            "_model_name": "FloatProgressModel",
            "_view_count": null,
            "_view_module": "@jupyter-widgets/controls",
            "_view_module_version": "1.5.0",
            "_view_name": "ProgressView",
            "bar_style": "success",
            "description": "",
            "description_tooltip": null,
            "layout": "IPY_MODEL_281b33fff86b40f58c2c0c8120a901d6",
            "max": 10,
            "min": 0,
            "orientation": "horizontal",
            "style": "IPY_MODEL_f989b4d8b57f4c67825d223665de917a",
            "value": 10
          }
        },
        "c524f5d0c11a4a62a2fc29c79992e035": {
          "model_module": "@jupyter-widgets/controls",
          "model_name": "HTMLModel",
          "model_module_version": "1.5.0",
          "state": {
            "_dom_classes": [],
            "_model_module": "@jupyter-widgets/controls",
            "_model_module_version": "1.5.0",
            "_model_name": "HTMLModel",
            "_view_count": null,
            "_view_module": "@jupyter-widgets/controls",
            "_view_module_version": "1.5.0",
            "_view_name": "HTMLView",
            "description": "",
            "description_tooltip": null,
            "layout": "IPY_MODEL_044eea4f20fa411ab1cf43757fd9401a",
            "placeholder": "​",
            "style": "IPY_MODEL_6c1fc71703c64372ac5d0b6497e93863",
            "value": " 10/10 [00:06&lt;00:00,  3.70it/s]"
          }
        },
        "4e85d354548641d6888b69ea36e63c75": {
          "model_module": "@jupyter-widgets/base",
          "model_name": "LayoutModel",
          "model_module_version": "1.2.0",
          "state": {
            "_model_module": "@jupyter-widgets/base",
            "_model_module_version": "1.2.0",
            "_model_name": "LayoutModel",
            "_view_count": null,
            "_view_module": "@jupyter-widgets/base",
            "_view_module_version": "1.2.0",
            "_view_name": "LayoutView",
            "align_content": null,
            "align_items": null,
            "align_self": null,
            "border": null,
            "bottom": null,
            "display": null,
            "flex": null,
            "flex_flow": null,
            "grid_area": null,
            "grid_auto_columns": null,
            "grid_auto_flow": null,
            "grid_auto_rows": null,
            "grid_column": null,
            "grid_gap": null,
            "grid_row": null,
            "grid_template_areas": null,
            "grid_template_columns": null,
            "grid_template_rows": null,
            "height": null,
            "justify_content": null,
            "justify_items": null,
            "left": null,
            "margin": null,
            "max_height": null,
            "max_width": null,
            "min_height": null,
            "min_width": null,
            "object_fit": null,
            "object_position": null,
            "order": null,
            "overflow": null,
            "overflow_x": null,
            "overflow_y": null,
            "padding": null,
            "right": null,
            "top": null,
            "visibility": null,
            "width": null
          }
        },
        "3c94f17c200540dbb882dee2da9757b2": {
          "model_module": "@jupyter-widgets/base",
          "model_name": "LayoutModel",
          "model_module_version": "1.2.0",
          "state": {
            "_model_module": "@jupyter-widgets/base",
            "_model_module_version": "1.2.0",
            "_model_name": "LayoutModel",
            "_view_count": null,
            "_view_module": "@jupyter-widgets/base",
            "_view_module_version": "1.2.0",
            "_view_name": "LayoutView",
            "align_content": null,
            "align_items": null,
            "align_self": null,
            "border": null,
            "bottom": null,
            "display": null,
            "flex": null,
            "flex_flow": null,
            "grid_area": null,
            "grid_auto_columns": null,
            "grid_auto_flow": null,
            "grid_auto_rows": null,
            "grid_column": null,
            "grid_gap": null,
            "grid_row": null,
            "grid_template_areas": null,
            "grid_template_columns": null,
            "grid_template_rows": null,
            "height": null,
            "justify_content": null,
            "justify_items": null,
            "left": null,
            "margin": null,
            "max_height": null,
            "max_width": null,
            "min_height": null,
            "min_width": null,
            "object_fit": null,
            "object_position": null,
            "order": null,
            "overflow": null,
            "overflow_x": null,
            "overflow_y": null,
            "padding": null,
            "right": null,
            "top": null,
            "visibility": null,
            "width": null
          }
        },
        "85eaf6dcc1dc4eb4821ac8bfc21ca320": {
          "model_module": "@jupyter-widgets/controls",
          "model_name": "DescriptionStyleModel",
          "model_module_version": "1.5.0",
          "state": {
            "_model_module": "@jupyter-widgets/controls",
            "_model_module_version": "1.5.0",
            "_model_name": "DescriptionStyleModel",
            "_view_count": null,
            "_view_module": "@jupyter-widgets/base",
            "_view_module_version": "1.2.0",
            "_view_name": "StyleView",
            "description_width": ""
          }
        },
        "281b33fff86b40f58c2c0c8120a901d6": {
          "model_module": "@jupyter-widgets/base",
          "model_name": "LayoutModel",
          "model_module_version": "1.2.0",
          "state": {
            "_model_module": "@jupyter-widgets/base",
            "_model_module_version": "1.2.0",
            "_model_name": "LayoutModel",
            "_view_count": null,
            "_view_module": "@jupyter-widgets/base",
            "_view_module_version": "1.2.0",
            "_view_name": "LayoutView",
            "align_content": null,
            "align_items": null,
            "align_self": null,
            "border": null,
            "bottom": null,
            "display": null,
            "flex": null,
            "flex_flow": null,
            "grid_area": null,
            "grid_auto_columns": null,
            "grid_auto_flow": null,
            "grid_auto_rows": null,
            "grid_column": null,
            "grid_gap": null,
            "grid_row": null,
            "grid_template_areas": null,
            "grid_template_columns": null,
            "grid_template_rows": null,
            "height": null,
            "justify_content": null,
            "justify_items": null,
            "left": null,
            "margin": null,
            "max_height": null,
            "max_width": null,
            "min_height": null,
            "min_width": null,
            "object_fit": null,
            "object_position": null,
            "order": null,
            "overflow": null,
            "overflow_x": null,
            "overflow_y": null,
            "padding": null,
            "right": null,
            "top": null,
            "visibility": null,
            "width": null
          }
        },
        "f989b4d8b57f4c67825d223665de917a": {
          "model_module": "@jupyter-widgets/controls",
          "model_name": "ProgressStyleModel",
          "model_module_version": "1.5.0",
          "state": {
            "_model_module": "@jupyter-widgets/controls",
            "_model_module_version": "1.5.0",
            "_model_name": "ProgressStyleModel",
            "_view_count": null,
            "_view_module": "@jupyter-widgets/base",
            "_view_module_version": "1.2.0",
            "_view_name": "StyleView",
            "bar_color": null,
            "description_width": ""
          }
        },
        "044eea4f20fa411ab1cf43757fd9401a": {
          "model_module": "@jupyter-widgets/base",
          "model_name": "LayoutModel",
          "model_module_version": "1.2.0",
          "state": {
            "_model_module": "@jupyter-widgets/base",
            "_model_module_version": "1.2.0",
            "_model_name": "LayoutModel",
            "_view_count": null,
            "_view_module": "@jupyter-widgets/base",
            "_view_module_version": "1.2.0",
            "_view_name": "LayoutView",
            "align_content": null,
            "align_items": null,
            "align_self": null,
            "border": null,
            "bottom": null,
            "display": null,
            "flex": null,
            "flex_flow": null,
            "grid_area": null,
            "grid_auto_columns": null,
            "grid_auto_flow": null,
            "grid_auto_rows": null,
            "grid_column": null,
            "grid_gap": null,
            "grid_row": null,
            "grid_template_areas": null,
            "grid_template_columns": null,
            "grid_template_rows": null,
            "height": null,
            "justify_content": null,
            "justify_items": null,
            "left": null,
            "margin": null,
            "max_height": null,
            "max_width": null,
            "min_height": null,
            "min_width": null,
            "object_fit": null,
            "object_position": null,
            "order": null,
            "overflow": null,
            "overflow_x": null,
            "overflow_y": null,
            "padding": null,
            "right": null,
            "top": null,
            "visibility": null,
            "width": null
          }
        },
        "6c1fc71703c64372ac5d0b6497e93863": {
          "model_module": "@jupyter-widgets/controls",
          "model_name": "DescriptionStyleModel",
          "model_module_version": "1.5.0",
          "state": {
            "_model_module": "@jupyter-widgets/controls",
            "_model_module_version": "1.5.0",
            "_model_name": "DescriptionStyleModel",
            "_view_count": null,
            "_view_module": "@jupyter-widgets/base",
            "_view_module_version": "1.2.0",
            "_view_name": "StyleView",
            "description_width": ""
          }
        },
        "94337c29f8d14c73ad3b3cb5aaec9f8b": {
          "model_module": "@jupyter-widgets/controls",
          "model_name": "HBoxModel",
          "model_module_version": "1.5.0",
          "state": {
            "_dom_classes": [],
            "_model_module": "@jupyter-widgets/controls",
            "_model_module_version": "1.5.0",
            "_model_name": "HBoxModel",
            "_view_count": null,
            "_view_module": "@jupyter-widgets/controls",
            "_view_module_version": "1.5.0",
            "_view_name": "HBoxView",
            "box_style": "",
            "children": [
              "IPY_MODEL_7a344e2657c2420988be763c44e8d555",
              "IPY_MODEL_5134e18c6eb744749ffef3a6915c0682",
              "IPY_MODEL_01f002207e9b4df2b0f8682ec8f0c474"
            ],
            "layout": "IPY_MODEL_a024e2e17a264648a1599237934653bd"
          }
        },
        "7a344e2657c2420988be763c44e8d555": {
          "model_module": "@jupyter-widgets/controls",
          "model_name": "HTMLModel",
          "model_module_version": "1.5.0",
          "state": {
            "_dom_classes": [],
            "_model_module": "@jupyter-widgets/controls",
            "_model_module_version": "1.5.0",
            "_model_name": "HTMLModel",
            "_view_count": null,
            "_view_module": "@jupyter-widgets/controls",
            "_view_module_version": "1.5.0",
            "_view_name": "HTMLView",
            "description": "",
            "description_tooltip": null,
            "layout": "IPY_MODEL_5a49fea798de4bb5b107ebe70bda1f8e",
            "placeholder": "​",
            "style": "IPY_MODEL_1e170e5b05954db384a3ee288cd55ee2",
            "value": "100%"
          }
        },
        "5134e18c6eb744749ffef3a6915c0682": {
          "model_module": "@jupyter-widgets/controls",
          "model_name": "FloatProgressModel",
          "model_module_version": "1.5.0",
          "state": {
            "_dom_classes": [],
            "_model_module": "@jupyter-widgets/controls",
            "_model_module_version": "1.5.0",
            "_model_name": "FloatProgressModel",
            "_view_count": null,
            "_view_module": "@jupyter-widgets/controls",
            "_view_module_version": "1.5.0",
            "_view_name": "ProgressView",
            "bar_style": "success",
            "description": "",
            "description_tooltip": null,
            "layout": "IPY_MODEL_4b07164d1d0b40148b892dddc35b7392",
            "max": 10,
            "min": 0,
            "orientation": "horizontal",
            "style": "IPY_MODEL_fa2c1e2d45a1477392b10391646a3df9",
            "value": 10
          }
        },
        "01f002207e9b4df2b0f8682ec8f0c474": {
          "model_module": "@jupyter-widgets/controls",
          "model_name": "HTMLModel",
          "model_module_version": "1.5.0",
          "state": {
            "_dom_classes": [],
            "_model_module": "@jupyter-widgets/controls",
            "_model_module_version": "1.5.0",
            "_model_name": "HTMLModel",
            "_view_count": null,
            "_view_module": "@jupyter-widgets/controls",
            "_view_module_version": "1.5.0",
            "_view_name": "HTMLView",
            "description": "",
            "description_tooltip": null,
            "layout": "IPY_MODEL_111ec9990535419f8383e08b15cabc27",
            "placeholder": "​",
            "style": "IPY_MODEL_552455dd1d7b4619ada4fa7922944db8",
            "value": " 10/10 [00:11&lt;00:00,  1.69it/s]"
          }
        },
        "a024e2e17a264648a1599237934653bd": {
          "model_module": "@jupyter-widgets/base",
          "model_name": "LayoutModel",
          "model_module_version": "1.2.0",
          "state": {
            "_model_module": "@jupyter-widgets/base",
            "_model_module_version": "1.2.0",
            "_model_name": "LayoutModel",
            "_view_count": null,
            "_view_module": "@jupyter-widgets/base",
            "_view_module_version": "1.2.0",
            "_view_name": "LayoutView",
            "align_content": null,
            "align_items": null,
            "align_self": null,
            "border": null,
            "bottom": null,
            "display": null,
            "flex": null,
            "flex_flow": null,
            "grid_area": null,
            "grid_auto_columns": null,
            "grid_auto_flow": null,
            "grid_auto_rows": null,
            "grid_column": null,
            "grid_gap": null,
            "grid_row": null,
            "grid_template_areas": null,
            "grid_template_columns": null,
            "grid_template_rows": null,
            "height": null,
            "justify_content": null,
            "justify_items": null,
            "left": null,
            "margin": null,
            "max_height": null,
            "max_width": null,
            "min_height": null,
            "min_width": null,
            "object_fit": null,
            "object_position": null,
            "order": null,
            "overflow": null,
            "overflow_x": null,
            "overflow_y": null,
            "padding": null,
            "right": null,
            "top": null,
            "visibility": null,
            "width": null
          }
        },
        "5a49fea798de4bb5b107ebe70bda1f8e": {
          "model_module": "@jupyter-widgets/base",
          "model_name": "LayoutModel",
          "model_module_version": "1.2.0",
          "state": {
            "_model_module": "@jupyter-widgets/base",
            "_model_module_version": "1.2.0",
            "_model_name": "LayoutModel",
            "_view_count": null,
            "_view_module": "@jupyter-widgets/base",
            "_view_module_version": "1.2.0",
            "_view_name": "LayoutView",
            "align_content": null,
            "align_items": null,
            "align_self": null,
            "border": null,
            "bottom": null,
            "display": null,
            "flex": null,
            "flex_flow": null,
            "grid_area": null,
            "grid_auto_columns": null,
            "grid_auto_flow": null,
            "grid_auto_rows": null,
            "grid_column": null,
            "grid_gap": null,
            "grid_row": null,
            "grid_template_areas": null,
            "grid_template_columns": null,
            "grid_template_rows": null,
            "height": null,
            "justify_content": null,
            "justify_items": null,
            "left": null,
            "margin": null,
            "max_height": null,
            "max_width": null,
            "min_height": null,
            "min_width": null,
            "object_fit": null,
            "object_position": null,
            "order": null,
            "overflow": null,
            "overflow_x": null,
            "overflow_y": null,
            "padding": null,
            "right": null,
            "top": null,
            "visibility": null,
            "width": null
          }
        },
        "1e170e5b05954db384a3ee288cd55ee2": {
          "model_module": "@jupyter-widgets/controls",
          "model_name": "DescriptionStyleModel",
          "model_module_version": "1.5.0",
          "state": {
            "_model_module": "@jupyter-widgets/controls",
            "_model_module_version": "1.5.0",
            "_model_name": "DescriptionStyleModel",
            "_view_count": null,
            "_view_module": "@jupyter-widgets/base",
            "_view_module_version": "1.2.0",
            "_view_name": "StyleView",
            "description_width": ""
          }
        },
        "4b07164d1d0b40148b892dddc35b7392": {
          "model_module": "@jupyter-widgets/base",
          "model_name": "LayoutModel",
          "model_module_version": "1.2.0",
          "state": {
            "_model_module": "@jupyter-widgets/base",
            "_model_module_version": "1.2.0",
            "_model_name": "LayoutModel",
            "_view_count": null,
            "_view_module": "@jupyter-widgets/base",
            "_view_module_version": "1.2.0",
            "_view_name": "LayoutView",
            "align_content": null,
            "align_items": null,
            "align_self": null,
            "border": null,
            "bottom": null,
            "display": null,
            "flex": null,
            "flex_flow": null,
            "grid_area": null,
            "grid_auto_columns": null,
            "grid_auto_flow": null,
            "grid_auto_rows": null,
            "grid_column": null,
            "grid_gap": null,
            "grid_row": null,
            "grid_template_areas": null,
            "grid_template_columns": null,
            "grid_template_rows": null,
            "height": null,
            "justify_content": null,
            "justify_items": null,
            "left": null,
            "margin": null,
            "max_height": null,
            "max_width": null,
            "min_height": null,
            "min_width": null,
            "object_fit": null,
            "object_position": null,
            "order": null,
            "overflow": null,
            "overflow_x": null,
            "overflow_y": null,
            "padding": null,
            "right": null,
            "top": null,
            "visibility": null,
            "width": null
          }
        },
        "fa2c1e2d45a1477392b10391646a3df9": {
          "model_module": "@jupyter-widgets/controls",
          "model_name": "ProgressStyleModel",
          "model_module_version": "1.5.0",
          "state": {
            "_model_module": "@jupyter-widgets/controls",
            "_model_module_version": "1.5.0",
            "_model_name": "ProgressStyleModel",
            "_view_count": null,
            "_view_module": "@jupyter-widgets/base",
            "_view_module_version": "1.2.0",
            "_view_name": "StyleView",
            "bar_color": null,
            "description_width": ""
          }
        },
        "111ec9990535419f8383e08b15cabc27": {
          "model_module": "@jupyter-widgets/base",
          "model_name": "LayoutModel",
          "model_module_version": "1.2.0",
          "state": {
            "_model_module": "@jupyter-widgets/base",
            "_model_module_version": "1.2.0",
            "_model_name": "LayoutModel",
            "_view_count": null,
            "_view_module": "@jupyter-widgets/base",
            "_view_module_version": "1.2.0",
            "_view_name": "LayoutView",
            "align_content": null,
            "align_items": null,
            "align_self": null,
            "border": null,
            "bottom": null,
            "display": null,
            "flex": null,
            "flex_flow": null,
            "grid_area": null,
            "grid_auto_columns": null,
            "grid_auto_flow": null,
            "grid_auto_rows": null,
            "grid_column": null,
            "grid_gap": null,
            "grid_row": null,
            "grid_template_areas": null,
            "grid_template_columns": null,
            "grid_template_rows": null,
            "height": null,
            "justify_content": null,
            "justify_items": null,
            "left": null,
            "margin": null,
            "max_height": null,
            "max_width": null,
            "min_height": null,
            "min_width": null,
            "object_fit": null,
            "object_position": null,
            "order": null,
            "overflow": null,
            "overflow_x": null,
            "overflow_y": null,
            "padding": null,
            "right": null,
            "top": null,
            "visibility": null,
            "width": null
          }
        },
        "552455dd1d7b4619ada4fa7922944db8": {
          "model_module": "@jupyter-widgets/controls",
          "model_name": "DescriptionStyleModel",
          "model_module_version": "1.5.0",
          "state": {
            "_model_module": "@jupyter-widgets/controls",
            "_model_module_version": "1.5.0",
            "_model_name": "DescriptionStyleModel",
            "_view_count": null,
            "_view_module": "@jupyter-widgets/base",
            "_view_module_version": "1.2.0",
            "_view_name": "StyleView",
            "description_width": ""
          }
        }
      }
    }
  },
  "cells": [
    {
      "cell_type": "code",
      "execution_count": 183,
      "metadata": {
        "id": "CqPfJ4Woygtl"
      },
      "outputs": [],
      "source": [
        "try:\n",
        "    import dolfin\n",
        "except ImportError:\n",
        "    !wget \"https://fem-on-colab.github.io/releases/fenics-install.sh\" -O \"/tmp/fenics-install.sh\" && bash \"/tmp/fenics-install.sh\"\n",
        "    import dolfin"
      ]
    },
    {
      "cell_type": "code",
      "source": [
        "#%reset"
      ],
      "metadata": {
        "id": "rCpFgQGcTBKC"
      },
      "execution_count": 184,
      "outputs": []
    },
    {
      "cell_type": "code",
      "source": [
        "import fenics\n",
        "import mshr\n",
        "import numpy as np\n",
        "import matplotlib.pyplot as plt\n",
        "import matplotlib.tri as tri\n",
        "import io\n",
        "from PIL import Image\n",
        "from tqdm import tqdm_notebook as tqdm\n",
        "import imageio"
      ],
      "metadata": {
        "id": "fNfjQZK40_wK"
      },
      "execution_count": 185,
      "outputs": []
    },
    {
      "cell_type": "code",
      "source": [
        "plt.style.use('dark_background')"
      ],
      "metadata": {
        "id": "a--w_TZQS_J4"
      },
      "execution_count": 186,
      "outputs": []
    },
    {
      "cell_type": "code",
      "source": [
        "class IFunc:\n",
        "\n",
        "  def __call__(self):\n",
        "    raise NotImplementedError(\"call method not implemented\")\n",
        "\n",
        "  def __str__(self):\n",
        "    raise NotImplementedError(\"str method not implemented\")"
      ],
      "metadata": {
        "id": "4Dtil3Lb_b3-"
      },
      "execution_count": 187,
      "outputs": []
    },
    {
      "cell_type": "code",
      "source": [
        "class BaseFunc(IFunc):\n",
        "\n",
        "  def __call__(self):\n",
        "    return fenics.Expression(str(self), **self.params)"
      ],
      "metadata": {
        "id": "0q0UUysAFMbd"
      },
      "execution_count": 188,
      "outputs": []
    },
    {
      "cell_type": "markdown",
      "source": [
        "$$\\alpha ⋅\\cos{x}$$"
      ],
      "metadata": {
        "id": "mMOHDFyR-rI-"
      }
    },
    {
      "cell_type": "code",
      "source": [
        "class Function(BaseFunc):\n",
        "\n",
        "  def __init__(self, cpp_code='', **kwargs):\n",
        "    self.cpp_code = cpp_code\n",
        "    self.params = kwargs\n",
        "\n",
        "  def __str__(self):\n",
        "    return self.cpp_code"
      ],
      "metadata": {
        "id": "Sh_JSn_p-ORx"
      },
      "execution_count": 189,
      "outputs": []
    },
    {
      "cell_type": "code",
      "source": [
        "class ConstFunction(BaseFunc):\n",
        "\n",
        "  def __init__(self, value=0):\n",
        "    self.value = value\n",
        "\n",
        "  def __call__(self):\n",
        "    return fenics.Constant(self.value)"
      ],
      "metadata": {
        "id": "GACmjR3myft_"
      },
      "execution_count": 190,
      "outputs": []
    },
    {
      "cell_type": "code",
      "source": [
        "class PolarFunction(Function):\n",
        "\n",
        "  r = fenics.Expression(\"sqrt(x[0]*x[0] + x[1]*x[1])\", degree = 2)\n",
        "  phi = fenics.Expression(\"atan2(x[1], x[0])\", degree = 2)\n",
        "\n",
        "  def __call__(self):\n",
        "    return fenics.Expression(str(self), r=self.r, phi=self.phi, **self.params)"
      ],
      "metadata": {
        "id": "nBUDrJdTw9iv"
      },
      "execution_count": 191,
      "outputs": []
    },
    {
      "cell_type": "code",
      "source": [
        "class MySolver:\n",
        "\n",
        "  def _configure_domain(self, domain, n_meshes, n_dim):\n",
        "    self.domain = domain\n",
        "    self.mesh = mshr.generate_mesh(self.domain, n_meshes)\n",
        "    self.V = fenics.FunctionSpace(self.mesh, 'P', n_dim)\n",
        "\n",
        "  @staticmethod\n",
        "  def boundary(x, on_boundary):\n",
        "    return on_boundary# and x[0] < 0\n",
        "\n",
        "  def _configure_bc(self, h, g):\n",
        "    self.bc = fenics.DirichletBC(self.V, h, self.boundary)\n",
        "    self.bc_der = g\n",
        "\n",
        "  def _configure_load(self, f):\n",
        "    self.p = f\n",
        "\n",
        "  def _configure_var_problem(self, alpha):\n",
        "    u = fenics.TrialFunction(self.V)\n",
        "    v = fenics.TestFunction(self.V)\n",
        "    \n",
        "    self.a = (fenics.dot(fenics.grad(u), fenics.grad(v)) + alpha * u * v)*fenics.dx\n",
        "    self.L = self.p*v*fenics.dx + self.bc_der * v * fenics.ds \n",
        "\n",
        "  def _configure(self, f, h, g, alpha):\n",
        "    # self._configure_domain()\n",
        "    self._configure_bc(h, g)\n",
        "    self._configure_load(f)\n",
        "    self._configure_var_problem(alpha)\n",
        "\n",
        "  def get_values(self, sol):\n",
        "    return sol.compute_vertex_values(self.mesh)    \n",
        "\n",
        "  def expr_to_func(self, expr):\n",
        "    func = fenics.Function(self.V)\n",
        "    func.vector()[:] = fenics.project(expr, self.V).vector()\n",
        "    return func\n",
        "\n",
        "  def solve(self, f : fenics.Expression, h : fenics.Expression, g : fenics.Expression, alpha=1):\n",
        "    self._configure(f, h, g, alpha)    \n",
        "\n",
        "    u = fenics.Function(self.V)\n",
        "    fenics.solve(self.a == self.L, u, self.bc)\n",
        "    #   Plot solution\n",
        "    #p = fenics.interpolate(self.p, self.V)\n",
        "    return u#, p\n",
        "\n",
        "  def __init__(self, domain, n_meshes, n_dim):\n",
        "    self._configure_domain(domain, n_meshes, n_dim)\n"
      ],
      "metadata": {
        "id": "UWsFMv0m5gyl"
      },
      "execution_count": 192,
      "outputs": []
    },
    {
      "cell_type": "code",
      "source": [
        "from matplotlib.tri import triangulation\n",
        "class Plotter:\n",
        "\n",
        "  @staticmethod\n",
        "  def make_triangulation(mesh):\n",
        "    coords = mesh.coordinates()\n",
        "    print(len(mesh.cells()), len(coords))\n",
        "    triangulation = tri.Triangulation(coords[:, 0], coords[:, 1], mesh.cells())\n",
        "    return triangulation\n",
        "\n",
        "  @classmethod\n",
        "  def plot_u(cls, triangulation, colors, title='', vmin=None, vmax=None):\n",
        "    if vmin==None or vmax==None:\n",
        "      vmin = np.min(colors)\n",
        "      vmax = np.max(colors)\n",
        "    plt.figure(figsize = (5, 5))\n",
        "    plt.grid()\n",
        "    plt.title(title)\n",
        "    plt.tripcolor(triangulation, colors, cmap='plasma', vmin=vmin, vmax=vmax)\n",
        "    plt.colorbar()\n",
        "\n",
        "    img_buf = io.BytesIO()\n",
        "    plt.savefig(img_buf, format='png')\n",
        "    plt.close()\n",
        "    img = Image.open(img_buf)\n",
        "    return img\n",
        "\n",
        "  @classmethod\n",
        "  def combine_plots(cls, imgs):\n",
        "    widths, heights = zip(*(i.size for i in imgs))\n",
        "    total_width = sum(widths)\n",
        "    max_height = max(heights)\n",
        "    new_im = Image.new('RGB', (total_width, max_height))\n",
        "\n",
        "    offset = 0\n",
        "    for im in imgs:\n",
        "      new_im.paste(im, (offset,0))\n",
        "      offset += im.size[0]\n",
        "    \n",
        "    return new_im\n",
        "\n",
        "  @classmethod\n",
        "  def plot_multiple(cls, imgs):\n",
        "    return cls.combine_plots(imgs)\n",
        "\n",
        "  @classmethod\n",
        "  def evaluate(cls, solver, f, h, g, u_true, alpha=5):\n",
        "    u = solver.solve(f, h, g, alpha=alpha)\n",
        "    u_true_func = solver.expr_to_func(u_true)\n",
        "\n",
        "    pred_colors = solver.get_values(u)\n",
        "    true_colors = solver.get_values(u_true_func)\n",
        "    diff_colors = np.abs(pred_colors - true_colors)\n",
        "\n",
        "    return u, u_true_func, pred_colors, true_colors, diff_colors\n",
        "\n",
        "  @classmethod\n",
        "  def plot(cls, triangulation, pred_colors, true_colors, diff_colors, vmin=None, vmax=None, err_vmin=None, err_vmax=None):\n",
        "    if vmin == None or vmax == None:\n",
        "      vmin = np.min(np.concatenate((pred_colors, true_colors)))\n",
        "      vmax = np.max(np.concatenate((pred_colors, true_colors)))\n",
        "\n",
        "    if err_vmin == None or err_vmax == None:\n",
        "      err_vmin = np.min(diff_colors)\n",
        "      err_vmax = np.max(diff_colors)\n",
        "\n",
        "    img = cls.plot_u(triangulation, pred_colors, title='numerical solution', vmin=vmin, vmax=vmax)\n",
        "    img_true = cls.plot_u(triangulation, true_colors, title='exact solution', vmin=vmin, vmax=vmax)\n",
        "    diff = cls.plot_u(triangulation, diff_colors,title='deflection', vmin=err_vmin, vmax=err_vmax)\n",
        "    return cls.plot_multiple((img, img_true, diff))"
      ],
      "metadata": {
        "id": "FMqPcU58_4EY"
      },
      "execution_count": 193,
      "outputs": []
    },
    {
      "cell_type": "code",
      "source": [
        "solver = MySolver(mshr.Circle(fenics.Point(0, 0), 1), 10, 2)\n",
        "mesh = solver.mesh\n",
        "triangulation = Plotter.make_triangulation(mesh)\n",
        "alpha=5"
      ],
      "metadata": {
        "colab": {
          "base_uri": "https://localhost:8080/"
        },
        "id": "tKLLGX6kzodK",
        "outputId": "69e05610-a799-4971-c410-c70fab53a969"
      },
      "execution_count": 194,
      "outputs": [
        {
          "output_type": "stream",
          "name": "stdout",
          "text": [
            "392 228\n"
          ]
        }
      ]
    },
    {
      "cell_type": "markdown",
      "source": [
        "# п.1\n",
        "\n"
      ],
      "metadata": {
        "id": "p1Oe6HCyFINY"
      }
    },
    {
      "cell_type": "markdown",
      "source": [
        "$$u = r^2 \\cdot cos(\\phi) + 1$$\n",
        "$$Δu = 3\\cos(\\phi)$$\n",
        "$$u|_{r=1}=\\cos(\\phi) + 1$$\n",
        "$$\\frac{∂ u}{∂ n}|_{r=1} = 2⋅\\cos(\\phi) + 1$$"
      ],
      "metadata": {
        "id": "QmafWYNx3cge"
      }
    },
    {
      "cell_type": "code",
      "source": [
        "_,_,pred_colors, true_colors, diff_colors = Plotter.evaluate(\n",
        "    solver,\n",
        "    PolarFunction(\"-3*cos(phi) + alpha*(r*r*cos(phi) + 1)\", alpha=5, degree=2)(),\n",
        "    PolarFunction(\"cos(phi) + 1\", degree=2)(),\n",
        "    PolarFunction(\"2*cos(phi)+1\", degree=2)(),\n",
        "    PolarFunction(\"r*r*cos(phi) + r\", degree=2)()\n",
        ")\n",
        "Plotter.plot(\n",
        "    triangulation,\n",
        "    pred_colors, true_colors, diff_colors\n",
        ")"
      ],
      "metadata": {
        "colab": {
          "base_uri": "https://localhost:8080/",
          "height": 377
        },
        "id": "aZDHjcQ4zWpK",
        "outputId": "095d5ccf-7bfa-49ac-c939-953853c2847b"
      },
      "execution_count": 195,
      "outputs": [
        {
          "output_type": "execute_result",
          "data": {
            "text/plain": [
              "<PIL.Image.Image image mode=RGB size=1080x360 at 0x7FC0D430D7D0>"
            ],
            "image/png": "[encoded data removed]"
          },
          "metadata": {},
          "execution_count": 195
        }
      ]
    },
    {
      "cell_type": "markdown",
      "source": [
        "$$u = r^2 \\cdot cos(4\\pi r)$$\n",
        "$$Δu = -16 π^2 r^2 cos(4 π r) - 20 π r sin(4 π r) + 4 cos(4 π r)$$\n",
        "$$u|_{r=1}=1$$\n",
        "$$\\frac{∂ u}{∂ n}|_{r=1} = 2$$"
      ],
      "metadata": {
        "id": "f4yxUBEkivzN"
      }
    },
    {
      "cell_type": "code",
      "source": [
        "_,_,pred_colors, true_colors, diff_colors = Plotter.evaluate(\n",
        "    solver,\n",
        "    PolarFunction(\"16 * pi * pi * cos(4*pi*r) + 20 * pi * r * sin(4*pi*r) - 4 * cos(4*pi*r) + alpha*(r*r*cos(4*pi*r))\", alpha=5, degree=2)(),\n",
        "    ConstFunction(1)(), \n",
        "    ConstFunction(2)(),\n",
        "    PolarFunction(\"r*r*cos(4*pi*r)\", degree=2)()\n",
        ")\n",
        "Plotter.plot(\n",
        "    triangulation,\n",
        "    pred_colors, true_colors, diff_colors\n",
        ")"
      ],
      "metadata": {
        "colab": {
          "base_uri": "https://localhost:8080/",
          "height": 377
        },
        "id": "-Gy3kwC0FGK3",
        "outputId": "4b190d3f-1032-4872-a9e7-59b78d2b7528"
      },
      "execution_count": 197,
      "outputs": [
        {
          "output_type": "execute_result",
          "data": {
            "text/plain": [
              "<PIL.Image.Image image mode=RGB size=1080x360 at 0x7FC0D79D1410>"
            ],
            "image/png": "[encoded data removed]"
          },
          "metadata": {},
          "execution_count": 197
        }
      ]
    },
    {
      "cell_type": "markdown",
      "source": [
        "$$u = 1/3\\cdot r^3 sin(\\phi)$$\n",
        "$$Δu = 8/3 \\cdot r \\cdot sin(\\phi)$$\n",
        "$$u|_{r=1}= 1/3 \\cdot sin(\\phi)$$\n",
        "$$\\frac{∂ u}{∂ n}|_{r=1} = sin(\\phi)$$"
      ],
      "metadata": {
        "id": "0eYzV7jKH4p-"
      }
    },
    {
      "cell_type": "code",
      "source": [
        "_,_,pred_colors, true_colors, diff_colors = Plotter.evaluate(\n",
        "    solver,\n",
        "    PolarFunction(\"-8/3*r*sin(phi) + alpha*(1/3*r*r*r*sin(phi))\", alpha=5, degree=2)(),\n",
        "    PolarFunction(\"1/3*sin(phi)\", degree=2)(),\n",
        "    PolarFunction(\"sin(phi)\", degree=2)(),\n",
        "    PolarFunction(\"1/3*r*r*r*sin(phi)\", degree=2)()\n",
        ")\n",
        "Plotter.plot(\n",
        "    triangulation,\n",
        "    pred_colors, true_colors, diff_colors\n",
        ")"
      ],
      "metadata": {
        "colab": {
          "base_uri": "https://localhost:8080/",
          "height": 377
        },
        "id": "gxTJGX14LEMw",
        "outputId": "781768e2-929e-4f9f-aeec-2edf6477e725"
      },
      "execution_count": 198,
      "outputs": [
        {
          "output_type": "execute_result",
          "data": {
            "text/plain": [
              "<PIL.Image.Image image mode=RGB size=1080x360 at 0x7FC0D70BFA50>"
            ],
            "image/png": "[encoded data removed]"
          },
          "metadata": {},
          "execution_count": 198
        }
      ]
    },
    {
      "cell_type": "markdown",
      "source": [
        "# п.2"
      ],
      "metadata": {
        "id": "QAu3S2NwFOUG"
      }
    },
    {
      "cell_type": "code",
      "source": [
        "T = 2.0\n",
        "n_iters = 10\n",
        "dt = T / n_iters\n",
        "solver = MySolver(mshr.Circle(fenics.Point(0, 0), 1), 10, 2)\n",
        "mesh = solver.mesh\n",
        "triangulation = Plotter.make_triangulation(mesh)\n",
        "alpha = fenics.Constant(1)"
      ],
      "metadata": {
        "colab": {
          "base_uri": "https://localhost:8080/"
        },
        "id": "licsS_bSyAkl",
        "outputId": "e298841c-3aac-4a48-caba-cd17934d71f0"
      },
      "execution_count": 199,
      "outputs": [
        {
          "output_type": "stream",
          "name": "stdout",
          "text": [
            "392 228\n"
          ]
        }
      ]
    },
    {
      "cell_type": "code",
      "source": [
        "t = 0\n",
        "pred_colors=[] \n",
        "true_colors=[] \n",
        "diff_colors=[]\n",
        "\n",
        "L2_errors = []\n",
        "max_errors = []\n",
        "\n",
        "file_name = \"test_01.gif\"\n",
        "h = PolarFunction(\"t * (cos(phi) + 1)\", t=t, degree=2)()\n",
        "u_n = fenics.interpolate(h, solver.V)\n",
        "\n",
        "for i in tqdm(range(n_iters)):\n",
        "  t += dt\n",
        "  f = PolarFunction(\"r * r * cos(phi) + 1 - (3 *t * cos(phi))\", t=t, degree=2)()\n",
        "  h = PolarFunction(\"t * (cos(phi) + 1)\", t=t, degree=2)()\n",
        "  g = PolarFunction(\"t * (2 * cos(phi))\", t=t, degree=2)()\n",
        "  u_true = PolarFunction(\"t * (r * r * cos(phi) + 1)\", t=t, degree=2)()\n",
        "\n",
        "  u, u_true, pred, true, diff = Plotter.evaluate(\n",
        "      solver,\n",
        "      u_n / (dt * alpha) + f / alpha, \n",
        "      h, \n",
        "      g, \n",
        "      u_true,\n",
        "      alpha=1/(dt * alpha)\n",
        "  )\n",
        "  L2_errors.append(fenics.errornorm(u_true, u, 'L2'))\n",
        "  max_errors.append(np.max(diff))\n",
        "\n",
        "  u_n.assign(u)\n",
        "\n",
        "  pred_colors.append(pred)\n",
        "  true_colors.append(true)\n",
        "  diff_colors.append(diff)\n",
        "frame_values = np.array([[pred, true] for pred, true in zip(pred_colors, true_colors)])\n",
        "diff_values = np.array(diff_colors)\n",
        "vmin = np.min(frame_values)\n",
        "vmax = np.max(frame_values)\n",
        "\n",
        "err_vmin = np.min(diff_values)\n",
        "err_vmax = np.max(diff_values)\n",
        "\n",
        "frames = []\n",
        "for pred, true, diff in zip(pred_colors, true_colors, diff_colors):\n",
        "  frames.append(\n",
        "      Plotter.plot(\n",
        "          triangulation,\n",
        "          pred, true, diff,\n",
        "          vmin=vmin, vmax=vmax, err_vmin=err_vmin, err_vmax=err_vmax\n",
        "      )\n",
        "  )\n",
        "imageio.mimsave(f\"/content/sample_data/{file_name}\", [np.array(f) for f in frames], fps=5)"
      ],
      "metadata": {
        "colab": {
          "base_uri": "https://localhost:8080/",
          "height": 101,
          "referenced_widgets": [
            "cd41d5feb16844e38b423edd363d4ad0",
            "50fdab2dd26a4a5e8a71737520ed2a6b",
            "753229530f584511a245feb038a1d278",
            "1efe694980144be1978957dd9eb5e622",
            "9cfaeb0880de4e7699588359811e094b",
            "317ee0dae71945b997072153e2d181fc",
            "438f6257b88248a8afd34a80f6ce7ded",
            "43757c2cc7624176b77ed911a52e5e40",
            "fc948da9323b42ffb4db69035f952a29",
            "e702e7443dd44eada3df5430160e45b9",
            "346f64c76ed44545b68094ea8de40d97"
          ]
        },
        "id": "BLVbI-lCyI93",
        "outputId": "4f27dbd6-38ea-48c6-d378-7f8dde73a6ae"
      },
      "execution_count": 200,
      "outputs": [
        {
          "output_type": "stream",
          "name": "stderr",
          "text": [
            "/usr/local/lib/python3.7/dist-packages/ipykernel_launcher.py:13: TqdmDeprecationWarning: This function will be removed in tqdm==5.0.0\n",
            "Please use `tqdm.notebook.tqdm` instead of `tqdm.tqdm_notebook`\n",
            "  del sys.path[0]\n"
          ]
        },
        {
          "output_type": "display_data",
          "data": {
            "text/plain": [
              "  0%|          | 0/10 [00:00<?, ?it/s]"
            ],
            "application/vnd.jupyter.widget-view+json": {
              "version_major": 2,
              "version_minor": 0,
              "model_id": "cd41d5feb16844e38b423edd363d4ad0"
            }
          },
          "metadata": {}
        }
      ]
    },
    {
      "cell_type": "code",
      "source": [
        "plt.title(\"Errors\")\n",
        "plt.plot(L2_errors, label='L2')\n",
        "plt.plot(max_errors, label='max')\n",
        "plt.xlabel(\"iteration\")\n",
        "plt.ylabel(\"value\")\n",
        "plt.legend()"
      ],
      "metadata": {
        "colab": {
          "base_uri": "https://localhost:8080/",
          "height": 312
        },
        "id": "a2sqARXj99VT",
        "outputId": "331d86d1-d03f-4a7d-9301-ce2691c6caa4"
      },
      "execution_count": 201,
      "outputs": [
        {
          "output_type": "execute_result",
          "data": {
            "text/plain": [
              "<matplotlib.legend.Legend at 0x7fc0d7791a50>"
            ]
          },
          "metadata": {},
          "execution_count": 201
        },
        {
          "output_type": "display_data",
          "data": {
            "text/plain": [
              "<Figure size 432x288 with 1 Axes>"
            ],
            "image/png": "[encoded data removed]"
          },
          "metadata": {}
        }
      ]
    },
    {
      "cell_type": "code",
      "source": [
        "t = 0\n",
        "pred_colors=[] \n",
        "true_colors=[] \n",
        "diff_colors=[]\n",
        "\n",
        "L2_errors = []\n",
        "max_errors = []\n",
        "\n",
        "file_name = \"test_02.gif\"\n",
        "h = ConstFunction(1)()\n",
        "u_n = fenics.interpolate(h, solver.V)\n",
        "\n",
        "for i in tqdm(range(n_iters)):\n",
        "  t += dt\n",
        "  f = PolarFunction(\"r * r * cos(4*pi*r) - t*(4*cos(4*pi*r) - 12*pi*r*sin(4*pi*r)-2*r*sin(4*pi*r)-16*pi*pi*r*r*cos(4*pi*r))\", t=t, degree=2)()\n",
        "  h = PolarFunction(\"t\", t=t, degree=2)()\n",
        "  g = PolarFunction(\"2*t\", t=t, degree=2)()\n",
        "  u_true = PolarFunction(\"t * (r * r * cos(4 * pi *r))\", t=t, degree=2)()\n",
        "\n",
        "  u, u_true, pred, true, diff = Plotter.evaluate(\n",
        "      solver,\n",
        "      u_n / (dt * alpha) + f / alpha, \n",
        "      h, \n",
        "      g, \n",
        "      u_true,\n",
        "      alpha=1/(dt * alpha)\n",
        "  )\n",
        "  L2_errors.append(fenics.errornorm(u_true, u, 'L2'))\n",
        "  max_errors.append(np.max(diff))\n",
        "\n",
        "  u_n.assign(u)\n",
        "\n",
        "  pred_colors.append(pred)\n",
        "  true_colors.append(true)\n",
        "  diff_colors.append(diff)\n",
        "frame_values = np.array([[pred, true] for pred, true in zip(pred_colors, true_colors)])\n",
        "diff_values = np.array(diff_colors)\n",
        "vmin = np.min(frame_values)\n",
        "vmax = np.max(frame_values)\n",
        "\n",
        "err_vmin = np.min(diff_values)\n",
        "err_vmax = np.max(diff_values)\n",
        "\n",
        "frames = []\n",
        "for pred, true, diff in zip(pred_colors, true_colors, diff_colors):\n",
        "  frames.append(\n",
        "      Plotter.plot(\n",
        "          triangulation,\n",
        "          pred, true, diff,\n",
        "          vmin=vmin, vmax=vmax, err_vmin=err_vmin, err_vmax=err_vmax\n",
        "      )\n",
        "  )\n",
        "imageio.mimsave(f\"/content/sample_data/{file_name}\", [np.array(f) for f in frames], fps=5)"
      ],
      "metadata": {
        "colab": {
          "base_uri": "https://localhost:8080/",
          "height": 101,
          "referenced_widgets": [
            "77e83bba272c44b99445ee3b6907674e",
            "8bb8fe257ed94e238abead7970f5cf7d",
            "41692aed96304c2c8eef0896c0674cdd",
            "c524f5d0c11a4a62a2fc29c79992e035",
            "4e85d354548641d6888b69ea36e63c75",
            "3c94f17c200540dbb882dee2da9757b2",
            "85eaf6dcc1dc4eb4821ac8bfc21ca320",
            "281b33fff86b40f58c2c0c8120a901d6",
            "f989b4d8b57f4c67825d223665de917a",
            "044eea4f20fa411ab1cf43757fd9401a",
            "6c1fc71703c64372ac5d0b6497e93863"
          ]
        },
        "id": "MGTrMKTQB7Xy",
        "outputId": "20a22a5d-3494-4ce1-c245-1b1c75bd1797"
      },
      "execution_count": 204,
      "outputs": [
        {
          "output_type": "stream",
          "name": "stderr",
          "text": [
            "/usr/local/lib/python3.7/dist-packages/ipykernel_launcher.py:13: TqdmDeprecationWarning: This function will be removed in tqdm==5.0.0\n",
            "Please use `tqdm.notebook.tqdm` instead of `tqdm.tqdm_notebook`\n",
            "  del sys.path[0]\n"
          ]
        },
        {
          "output_type": "display_data",
          "data": {
            "text/plain": [
              "  0%|          | 0/10 [00:00<?, ?it/s]"
            ],
            "application/vnd.jupyter.widget-view+json": {
              "version_major": 2,
              "version_minor": 0,
              "model_id": "77e83bba272c44b99445ee3b6907674e"
            }
          },
          "metadata": {}
        }
      ]
    },
    {
      "cell_type": "code",
      "source": [
        "plt.title(\"Errors\")\n",
        "plt.plot(L2_errors, label='L2')\n",
        "plt.plot(max_errors, label='max')\n",
        "plt.xlabel(\"iteration\")\n",
        "plt.ylabel(\"value\")\n",
        "plt.legend()"
      ],
      "metadata": {
        "colab": {
          "base_uri": "https://localhost:8080/",
          "height": 312
        },
        "id": "y6Hedtiwtq49",
        "outputId": "91f84c52-f148-4e8e-d398-936225922660"
      },
      "execution_count": 203,
      "outputs": [
        {
          "output_type": "execute_result",
          "data": {
            "text/plain": [
              "<matplotlib.legend.Legend at 0x7fc0d40cd610>"
            ]
          },
          "metadata": {},
          "execution_count": 203
        },
        {
          "output_type": "display_data",
          "data": {
            "text/plain": [
              "<Figure size 432x288 with 1 Axes>"
            ],
            "image/png": "[encoded data removed]"
          },
          "metadata": {}
        }
      ]
    },
    {
      "cell_type": "code",
      "source": [
        "t = 0\n",
        "pred_colors=[] \n",
        "true_colors=[] \n",
        "diff_colors=[]\n",
        "\n",
        "L2_errors = []\n",
        "max_errors = []\n",
        "\n",
        "file_name = \"test_03.gif\"\n",
        "h = ConstFunction(1)()\n",
        "u_n = fenics.interpolate(h, solver.V)\n",
        "\n",
        "for i in tqdm(range(n_iters)):\n",
        "  t += dt\n",
        "  f = PolarFunction(\"1/3*r*r*r*sin(phi) - 8/3*r*t*sin(phi)\", t=t, degree=2)()\n",
        "  h = PolarFunction(\"1/3*sin(phi)*t\", t=t, degree=2)()\n",
        "  g = PolarFunction(\"sin(phi)*t\", t=t, degree=2)()\n",
        "  u_true = PolarFunction(\"1/3*r*r*r*sin(phi)*t\", t=t, degree=2)()\n",
        "\n",
        "  u, u_true, pred, true, diff = Plotter.evaluate(\n",
        "      solver,\n",
        "      u_n / (dt * alpha) + f / alpha, \n",
        "      h, \n",
        "      g, \n",
        "      u_true,\n",
        "      alpha=1/(dt * alpha)\n",
        "  )\n",
        "  L2_errors.append(fenics.errornorm(u_true, u, 'L2'))\n",
        "  max_errors.append(np.max(diff))\n",
        "\n",
        "  u_n.assign(u)\n",
        "\n",
        "  pred_colors.append(pred)\n",
        "  true_colors.append(true)\n",
        "  diff_colors.append(diff)\n",
        "frame_values = np.array([[pred, true] for pred, true in zip(pred_colors, true_colors)])\n",
        "diff_values = np.array(diff_colors)\n",
        "vmin = np.min(frame_values)\n",
        "vmax = np.max(frame_values)\n",
        "\n",
        "err_vmin = np.min(diff_values)\n",
        "err_vmax = np.max(diff_values)\n",
        "\n",
        "frames = []\n",
        "for pred, true, diff in zip(pred_colors, true_colors, diff_colors):\n",
        "  frames.append(\n",
        "      Plotter.plot(\n",
        "          triangulation,\n",
        "          pred, true, diff,\n",
        "          vmin=vmin, vmax=vmax, err_vmin=err_vmin, err_vmax=err_vmax\n",
        "      )\n",
        "  )\n",
        "imageio.mimsave(f\"/content/sample_data/{file_name}\", [np.array(f) for f in frames], fps=5)"
      ],
      "metadata": {
        "colab": {
          "base_uri": "https://localhost:8080/",
          "height": 101,
          "referenced_widgets": [
            "94337c29f8d14c73ad3b3cb5aaec9f8b",
            "7a344e2657c2420988be763c44e8d555",
            "5134e18c6eb744749ffef3a6915c0682",
            "01f002207e9b4df2b0f8682ec8f0c474",
            "a024e2e17a264648a1599237934653bd",
            "5a49fea798de4bb5b107ebe70bda1f8e",
            "1e170e5b05954db384a3ee288cd55ee2",
            "4b07164d1d0b40148b892dddc35b7392",
            "fa2c1e2d45a1477392b10391646a3df9",
            "111ec9990535419f8383e08b15cabc27",
            "552455dd1d7b4619ada4fa7922944db8"
          ]
        },
        "id": "gB_ATdekuPSo",
        "outputId": "69dc2444-de8c-4986-b343-5fb9142e220a"
      },
      "execution_count": 206,
      "outputs": [
        {
          "output_type": "stream",
          "name": "stderr",
          "text": [
            "/usr/local/lib/python3.7/dist-packages/ipykernel_launcher.py:13: TqdmDeprecationWarning: This function will be removed in tqdm==5.0.0\n",
            "Please use `tqdm.notebook.tqdm` instead of `tqdm.tqdm_notebook`\n",
            "  del sys.path[0]\n"
          ]
        },
        {
          "output_type": "display_data",
          "data": {
            "text/plain": [
              "  0%|          | 0/10 [00:00<?, ?it/s]"
            ],
            "application/vnd.jupyter.widget-view+json": {
              "version_major": 2,
              "version_minor": 0,
              "model_id": "94337c29f8d14c73ad3b3cb5aaec9f8b"
            }
          },
          "metadata": {}
        }
      ]
    },
    {
      "cell_type": "code",
      "source": [
        "plt.title(\"Errors\")\n",
        "plt.plot(L2_errors, label='L2')\n",
        "plt.plot(max_errors, label='max')\n",
        "plt.xlabel(\"iteration\")\n",
        "plt.ylabel(\"value\")\n",
        "plt.legend()"
      ],
      "metadata": {
        "colab": {
          "base_uri": "https://localhost:8080/",
          "height": 312
        },
        "id": "Tm1IHv0oDVzP",
        "outputId": "120eda0e-62f9-4649-d118-f55bbb4fbab6"
      },
      "execution_count": 207,
      "outputs": [
        {
          "output_type": "execute_result",
          "data": {
            "text/plain": [
              "<matplotlib.legend.Legend at 0x7fc0d68f66d0>"
            ]
          },
          "metadata": {},
          "execution_count": 207
        },
        {
          "output_type": "display_data",
          "data": {
            "text/plain": [
              "<Figure size 432x288 with 1 Axes>"
            ],
            "image/png": "[encoded data removed]"
          },
          "metadata": {}
        }
      ]
    },
    {
      "cell_type": "code",
      "source": [
        ""
      ],
      "metadata": {
        "id": "AVJYFQQ5Dp3E"
      },
      "execution_count": null,
      "outputs": []
    }
  ]
}